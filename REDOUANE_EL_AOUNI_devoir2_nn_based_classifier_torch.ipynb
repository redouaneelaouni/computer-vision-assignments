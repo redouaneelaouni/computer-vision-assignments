{
  "nbformat": 4,
  "nbformat_minor": 0,
  "metadata": {
    "colab": {
      "provenance": [],
      "gpuType": "T4",
      "name": "REDOUANE-EL-AOUNI_devoir2_nn_based_classifier_torch.ipynb",
      "include_colab_link": true
    },
    "kernelspec": {
      "name": "python3",
      "display_name": "Python 3"
    },
    "language_info": {
      "name": "python"
    },
    "accelerator": "GPU"
  },
  "cells": [
    {
      "cell_type": "markdown",
      "metadata": {
        "id": "view-in-github",
        "colab_type": "text"
      },
      "source": [
        "<a href=\"https://colab.research.google.com/github/redouaneelaouni/computer-vision-assignments/blob/main/REDOUANE_EL_AOUNI_devoir2_nn_based_classifier_torch.ipynb\" target=\"_parent\"><img src=\"https://colab.research.google.com/assets/colab-badge.svg\" alt=\"Open In Colab\"/></a>"
      ]
    },
    {
      "cell_type": "markdown",
      "source": [
        "# **Chargement du Dataset**\n",
        "\n",
        "1.   Importez les bibliothèques nécessaires, y compris PyTorch et les outils de manipulation de données.\n",
        "2.   Chargez le dataset à partir de la source, par exemple, à partir d'un fichier CSV ou d'une bibliothèque de données PyTorch.\n",
        "\n",
        "3.   Explorez et visualisez les données pour mieux les comprendre, par exemple, en affichant quelques échantillons ou en traçant des statistiques descriptives.\n"
      ],
      "metadata": {
        "id": "aWPJQh0qqmTx"
      }
    },
    {
      "cell_type": "code",
      "source": [
        "# Import des bibliothèques\n",
        "import torch\n",
        "import torchvision\n",
        "from torchvision import datasets, transforms\n",
        "import matplotlib.pyplot as plt\n"
      ],
      "metadata": {
        "id": "vvbUKBqVqjdq"
      },
      "execution_count": 1,
      "outputs": []
    },
    {
      "cell_type": "code",
      "source": [
        "# Chargement du dataset\n",
        "train_dataset = datasets.CIFAR10(root='./data', train=True, download=True, transform=transforms.ToTensor())\n",
        "test_dataset = datasets.CIFAR10(root='./data', train=False, download=True, transform=transforms.ToTensor())\n"
      ],
      "metadata": {
        "colab": {
          "base_uri": "https://localhost:8080/"
        },
        "id": "ipUSKT0zt3Dk",
        "outputId": "9a874151-b323-4278-ad75-5fce21a1718a"
      },
      "execution_count": 2,
      "outputs": [
        {
          "output_type": "stream",
          "name": "stdout",
          "text": [
            "Downloading https://www.cs.toronto.edu/~kriz/cifar-10-python.tar.gz to ./data/cifar-10-python.tar.gz\n"
          ]
        },
        {
          "output_type": "stream",
          "name": "stderr",
          "text": [
            "100%|██████████| 170498071/170498071 [00:13<00:00, 12886344.71it/s]\n"
          ]
        },
        {
          "output_type": "stream",
          "name": "stdout",
          "text": [
            "Extracting ./data/cifar-10-python.tar.gz to ./data\n",
            "Files already downloaded and verified\n"
          ]
        }
      ]
    },
    {
      "cell_type": "code",
      "source": [
        "# Exploration des données\n",
        "print(\"Nombre d'échantillons dans l'ensemble d'entraînement:\", len(train_dataset))\n",
        "print(\"Nombre d'échantillons dans l'ensemble de test:\", len(test_dataset))\n"
      ],
      "metadata": {
        "colab": {
          "base_uri": "https://localhost:8080/"
        },
        "id": "OnfkiR7Qt5rq",
        "outputId": "8ae3a5e3-ee13-4a32-d5cc-da8fcd74008d"
      },
      "execution_count": 3,
      "outputs": [
        {
          "output_type": "stream",
          "name": "stdout",
          "text": [
            "Nombre d'échantillons dans l'ensemble d'entraînement: 50000\n",
            "Nombre d'échantillons dans l'ensemble de test: 10000\n"
          ]
        }
      ]
    },
    {
      "cell_type": "code",
      "source": [
        "\n",
        "# Affichage d'échantillons\n",
        "def show_samples(dataset, classes):\n",
        "    fig, axs = plt.subplots(1, 5, figsize=(15, 3), sharey=True)\n",
        "    for i in range(5):\n",
        "        sample, label = dataset[i]\n",
        "        axs[i].imshow(sample.permute(1, 2, 0))\n",
        "        axs[i].set_title(classes[label])\n",
        "        axs[i].axis('off')\n",
        "    plt.show()\n",
        "\n",
        "classes = ['airplane', 'automobile', 'bird', 'cat', 'deer', 'dog', 'frog', 'horse', 'ship', 'truck']\n",
        "show_samples(train_dataset, classes)"
      ],
      "metadata": {
        "colab": {
          "base_uri": "https://localhost:8080/",
          "height": 259
        },
        "id": "64ypKM2_t8Rm",
        "outputId": "e4df364e-50c5-40c2-c588-130308d9d57b"
      },
      "execution_count": 4,
      "outputs": [
        {
          "output_type": "display_data",
          "data": {
            "text/plain": [
              "<Figure size 1500x300 with 5 Axes>"
            ],
            "image/png": "[encoded data removed]"
          },
          "metadata": {}
        }
      ]
    },
    {
      "cell_type": "markdown",
      "source": [
        "# **Création du Réseau de Neurones**\n",
        "\n",
        "\n",
        "1.   Définissez l'architecture du réseau de neurones en créant une classe héritant de torch.nn.Module.\n",
        "2.   Définissez les couches et les opérations à l'intérieur de la classe.\n",
        "3.   Initialisez les poids du réseau.\n",
        "\n",
        "\n",
        "\n"
      ],
      "metadata": {
        "id": "BEJzRZbXuKxZ"
      }
    },
    {
      "cell_type": "code",
      "source": [
        "import torch.nn as nn\n",
        "import torch.nn.functional as F\n",
        "\n",
        "class SimpleCNN(nn.Module):\n",
        "    def __init__(self):\n",
        "        super(SimpleCNN, self).__init__()\n",
        "        self.conv1 = nn.Conv2d(3, 32, kernel_size=3, padding=1)\n",
        "        self.conv2 = nn.Conv2d(32, 64, kernel_size=3, padding=1)\n",
        "        self.fc1 = nn.Linear(64*8*8, 128)\n",
        "        self.fc2 = nn.Linear(128, 10)\n",
        "\n",
        "    def forward(self, x):\n",
        "        x = F.relu(self.conv1(x))\n",
        "        x = F.max_pool2d(x, kernel_size=2, stride=2)\n",
        "        x = F.relu(self.conv2(x))\n",
        "        x = F.max_pool2d(x, kernel_size=2, stride=2)\n",
        "        x = x.view(-1, 64*8*8)\n",
        "        x = F.relu(self.fc1(x))\n",
        "        x = self.fc2(x)\n",
        "        return x\n",
        "\n",
        "# Initialisation du réseau\n",
        "model = SimpleCNN()\n"
      ],
      "metadata": {
        "id": "JH6UGjgdudHM"
      },
      "execution_count": 5,
      "outputs": []
    },
    {
      "cell_type": "markdown",
      "source": [
        "# **Choix de la Fonction de Perte et de l'Optimiseur**\n",
        "\n",
        "\n",
        "1.   Choisissez une fonction de perte appropriée en fonction de la tâche de classification.\n",
        "2.   Choisissez un optimiseur pour entraîner le réseau de neurones.\n",
        "\n",
        "\n"
      ],
      "metadata": {
        "id": "Ee9ubMamvCTV"
      }
    },
    {
      "cell_type": "code",
      "source": [
        "import torch.optim as optim\n",
        "\n",
        "# Choix de la fonction de perte\n",
        "criterion = nn.CrossEntropyLoss()\n",
        "\n",
        "# Choix de l'optimiseur\n",
        "optimizer = optim.Adam(model.parameters(), lr=0.001)\n"
      ],
      "metadata": {
        "id": "n4X7u9zSvQYu"
      },
      "execution_count": 6,
      "outputs": []
    },
    {
      "cell_type": "markdown",
      "source": [
        "# **Boucle d'Entraînement**\n",
        "\n",
        "\n",
        "1.   Définissez la boucle d'entraînement principale qui comprend la propagation avant, le calcul de la perte, la rétropropagation et la mise à jour des poids du réseau.\n",
        "\n",
        "\n"
      ],
      "metadata": {
        "id": "RgbFeR4TvkaO"
      }
    },
    {
      "cell_type": "code",
      "source": [
        " # Création du DataLoader pour l'ensemble d'entraînement\n",
        "train_loader = torch.utils.data.DataLoader(train_dataset, batch_size=64, shuffle=True)\n",
        "\n",
        "# Boucle d'entraînement\n",
        "def train(model, train_loader, criterion, optimizer, num_epochs=5):\n",
        "    for epoch in range(num_epochs):\n",
        "        running_loss = 0.0\n",
        "        for i, data in enumerate(train_loader, 0):\n",
        "            inputs, labels = data\n",
        "            optimizer.zero_grad()\n",
        "            outputs = model(inputs)\n",
        "            loss = criterion(outputs, labels)\n",
        "            loss.backward()\n",
        "            optimizer.step()\n",
        "            running_loss += loss.item()\n",
        "            if i % 100 == 99:  # Imprimer toutes les 100 mini-lots\n",
        "                print('[%d, %5d] loss: %.3f' %\n",
        "                      (epoch + 1, i + 1, running_loss / 100))\n",
        "                running_loss = 0.0\n",
        "\n",
        "# Entraînement du modèle en utilisant train_loader\n",
        "train(model, train_loader, criterion, optimizer)\n"
      ],
      "metadata": {
        "colab": {
          "base_uri": "https://localhost:8080/"
        },
        "id": "brvAisIZvsvx",
        "outputId": "03a4dede-2321-417a-ef06-9199b813eb83"
      },
      "execution_count": 7,
      "outputs": [
        {
          "output_type": "stream",
          "name": "stdout",
          "text": [
            "[1,   100] loss: 2.012\n",
            "[1,   200] loss: 1.640\n",
            "[1,   300] loss: 1.541\n",
            "[1,   400] loss: 1.473\n",
            "[1,   500] loss: 1.415\n",
            "[1,   600] loss: 1.346\n",
            "[1,   700] loss: 1.333\n",
            "[2,   100] loss: 1.214\n",
            "[2,   200] loss: 1.228\n",
            "[2,   300] loss: 1.177\n",
            "[2,   400] loss: 1.154\n",
            "[2,   500] loss: 1.147\n",
            "[2,   600] loss: 1.086\n",
            "[2,   700] loss: 1.086\n",
            "[3,   100] loss: 1.024\n",
            "[3,   200] loss: 0.991\n",
            "[3,   300] loss: 0.994\n",
            "[3,   400] loss: 0.979\n",
            "[3,   500] loss: 0.977\n",
            "[3,   600] loss: 0.977\n",
            "[3,   700] loss: 0.959\n",
            "[4,   100] loss: 0.920\n",
            "[4,   200] loss: 0.895\n",
            "[4,   300] loss: 0.887\n",
            "[4,   400] loss: 0.884\n",
            "[4,   500] loss: 0.886\n",
            "[4,   600] loss: 0.869\n",
            "[4,   700] loss: 0.886\n",
            "[5,   100] loss: 0.811\n",
            "[5,   200] loss: 0.800\n",
            "[5,   300] loss: 0.805\n",
            "[5,   400] loss: 0.838\n",
            "[5,   500] loss: 0.800\n",
            "[5,   600] loss: 0.832\n",
            "[5,   700] loss: 0.819\n"
          ]
        }
      ]
    },
    {
      "cell_type": "markdown",
      "source": [
        "# **Évaluation sur l'Ensemble de Test**\n",
        "\n",
        "\n",
        "1.   Évaluez les performances du modèle sur l'ensemble de test pour comprendre à quel point il généralise bien aux données non vues.\n",
        "\n",
        "\n"
      ],
      "metadata": {
        "id": "n0iWhclovw40"
      }
    },
    {
      "cell_type": "code",
      "source": [
        "# Création du DataLoader pour l'ensemble de test\n",
        "test_loader = torch.utils.data.DataLoader(test_dataset, batch_size=64, shuffle=False)\n",
        "\n",
        "# Évaluation du modèle\n",
        "def test(model, test_loader):\n",
        "    correct = 0\n",
        "    total = 0\n",
        "    with torch.no_grad():\n",
        "        for data in test_loader:\n",
        "            inputs, labels = data\n",
        "            outputs = model(inputs)\n",
        "            _, predicted = torch.max(outputs.data, 1)\n",
        "            total += labels.size(0)\n",
        "            correct += (predicted == labels).sum().item()\n",
        "    print('Accuracy of the network on the 10000 test images: %d %%' % (\n",
        "        100 * correct / total))\n",
        "\n",
        "# Évaluation du modèle en utilisant test_loader\n",
        "test(model, test_loader)\n",
        "\n"
      ],
      "metadata": {
        "colab": {
          "base_uri": "https://localhost:8080/"
        },
        "id": "pY4iTC8Gv9c8",
        "outputId": "ed75ec13-2bea-4d0c-c750-b57e0eee680e"
      },
      "execution_count": 8,
      "outputs": [
        {
          "output_type": "stream",
          "name": "stdout",
          "text": [
            "Accuracy of the network on the 10000 test images: 68 %\n"
          ]
        }
      ]
    }
  ]
}